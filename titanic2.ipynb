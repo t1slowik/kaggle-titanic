{
 "cells": [
  {
   "cell_type": "markdown",
   "metadata": {},
   "source": [
    "# Kaggle Titanic competition\n",
    "goal: create fast and submit to learn how to deal with Kaggle\n"
   ]
  },
  {
   "cell_type": "code",
   "execution_count": 1,
   "metadata": {},
   "outputs": [],
   "source": [
    "# general & data analysis imports\n",
    "import numpy as np\n",
    "import pandas as pd\n",
    "import matplotlib.pyplot as plt\n",
    "import seaborn as sns\n",
    "\n",
    "# data preprocessing imports\n",
    "from sklearn import preprocessing\n",
    "import category_encoders as ce\n",
    "from sklearn.feature_selection import SelectKBest, f_classif\n",
    "from sklearn.model_selection import train_test_split\n",
    "\n",
    "# model learning & evaluation imports\n",
    "import tensorflow as tf\n",
    "from tensorflow.keras import models\n",
    "from tensorflow.keras.layers import Dense\n",
    "from tensorflow.keras.layers import Dropout\n",
    "from tensorflow.keras import regularizers"
   ]
  },
  {
   "cell_type": "markdown",
   "metadata": {},
   "source": [
    "## data loading"
   ]
  },
  {
   "cell_type": "code",
   "execution_count": 2,
   "metadata": {},
   "outputs": [],
   "source": [
    "train_dataset=pd.read_csv('train.csv')\n",
    "test_dataset=pd.read_csv('test.csv')"
   ]
  },
  {
   "cell_type": "markdown",
   "metadata": {},
   "source": [
    "## data analysis"
   ]
  },
  {
   "cell_type": "code",
   "execution_count": null,
   "metadata": {},
   "outputs": [],
   "source": [
    "train_dataset.info()"
   ]
  },
  {
   "cell_type": "code",
   "execution_count": null,
   "metadata": {},
   "outputs": [],
   "source": [
    "train_dataset.describe()"
   ]
  },
  {
   "cell_type": "code",
   "execution_count": null,
   "metadata": {},
   "outputs": [],
   "source": [
    "train_dataset.head()\n"
   ]
  },
  {
   "cell_type": "code",
   "execution_count": null,
   "metadata": {},
   "outputs": [],
   "source": [
    "train_dataset.hist(figsize=(15,20));\n",
    "plt.figure();"
   ]
  },
  {
   "cell_type": "code",
   "execution_count": null,
   "metadata": {},
   "outputs": [],
   "source": [
    "sns.pairplot(train_dataset, hue=\"Survived\");"
   ]
  },
  {
   "cell_type": "code",
   "execution_count": null,
   "metadata": {},
   "outputs": [],
   "source": [
    "sns.heatmap(train_dataset.corr(),annot=True) \n"
   ]
  },
  {
   "cell_type": "code",
   "execution_count": null,
   "metadata": {},
   "outputs": [],
   "source": [
    "test_dataset.isnull().sum()"
   ]
  },
  {
   "cell_type": "markdown",
   "metadata": {},
   "source": [
    "## data preprocessing"
   ]
  },
  {
   "cell_type": "code",
   "execution_count": 3,
   "metadata": {},
   "outputs": [],
   "source": [
    "# remove dependent variable from train set to have the same structure as test set\n",
    "df_y=train_dataset['Survived'].copy()\n",
    "train_dataset.drop('Survived', axis=1,inplace=True)"
   ]
  },
  {
   "cell_type": "code",
   "execution_count": 4,
   "metadata": {},
   "outputs": [],
   "source": [
    "def preprocess_data(source_df):\n",
    "    df=source_df.copy()\n",
    "    # Age to bins, NaN to separate bin\n",
    "    df.Age.fillna(-1, inplace=True)\n",
    "    age_bins=(-10,0,14,40,500)\n",
    "    age_labels=('unk','upto14','age_upto40','above40')\n",
    "    df.Age=pd.cut(df.Age, age_bins, labels=age_labels)\n",
    "    #cabin - keep first letter\n",
    "    df.Cabin.fillna('Unknown', inplace=True)\n",
    "    df.Cabin=df.Cabin.apply(lambda x: x[0])\n",
    "    # fare - divide by mean (~32)\n",
    "    df.Fare.fillna(df.Fare.median(), inplace=True)\n",
    "    df.Fare=df.Fare.apply(lambda x: x/32)\n",
    "    # embarked - fillna\n",
    "    df.Embarked.fillna('U', inplace=True)\n",
    "    # ticket, name - drop\n",
    "    df=df.drop(['Ticket','Name'], axis=1)\n",
    "    # SibSp, Parch - replace to binary\n",
    "    df.SibSp=df.SibSp.apply(lambda x: int(x>0))\n",
    "    df.Parch=df.Parch.apply(lambda x: int(x>0))\n",
    "    \n",
    "    #return preprocessed df\n",
    "    return df\n"
   ]
  },
  {
   "cell_type": "code",
   "execution_count": 5,
   "metadata": {},
   "outputs": [],
   "source": [
    "df_test=preprocess_data(test_dataset)\n",
    "df_train=preprocess_data(train_dataset)"
   ]
  },
  {
   "cell_type": "code",
   "execution_count": 6,
   "metadata": {},
   "outputs": [
    {
     "name": "stdout",
     "output_type": "stream",
     "text": [
      "<class 'pandas.core.frame.DataFrame'>\n",
      "RangeIndex: 891 entries, 0 to 890\n",
      "Data columns (total 9 columns):\n",
      "PassengerId    891 non-null int64\n",
      "Pclass         891 non-null int64\n",
      "Sex            891 non-null object\n",
      "Age            891 non-null category\n",
      "SibSp          891 non-null int64\n",
      "Parch          891 non-null int64\n",
      "Fare           891 non-null float64\n",
      "Cabin          891 non-null object\n",
      "Embarked       891 non-null object\n",
      "dtypes: category(1), float64(1), int64(4), object(3)\n",
      "memory usage: 56.8+ KB\n"
     ]
    }
   ],
   "source": [
    "df_train.info()"
   ]
  },
  {
   "cell_type": "code",
   "execution_count": 7,
   "metadata": {},
   "outputs": [
    {
     "name": "stdout",
     "output_type": "stream",
     "text": [
      "<class 'pandas.core.frame.DataFrame'>\n",
      "RangeIndex: 418 entries, 0 to 417\n",
      "Data columns (total 9 columns):\n",
      "PassengerId    418 non-null int64\n",
      "Pclass         418 non-null int64\n",
      "Sex            418 non-null object\n",
      "Age            418 non-null category\n",
      "SibSp          418 non-null int64\n",
      "Parch          418 non-null int64\n",
      "Fare           418 non-null float64\n",
      "Cabin          418 non-null object\n",
      "Embarked       418 non-null object\n",
      "dtypes: category(1), float64(1), int64(4), object(3)\n",
      "memory usage: 26.8+ KB\n"
     ]
    }
   ],
   "source": [
    "df_test.info()"
   ]
  },
  {
   "cell_type": "code",
   "execution_count": null,
   "metadata": {},
   "outputs": [],
   "source": []
  },
  {
   "cell_type": "code",
   "execution_count": 8,
   "metadata": {},
   "outputs": [],
   "source": [
    "def encode(df1, df2):\n",
    "    '''df1, df2 - train and test dataframes\n",
    "    return - modified df1, df2'''\n",
    "    \n",
    "    cat_features =['Sex','Pclass'] # features for categorization\n",
    "    onehot_features=['Cabin','Embarked','Age'] # features for onehot encoding\n",
    "    \n",
    "    # for each feature, use LabelEncoder on both dataframes\n",
    "    for f in cat_features:\n",
    "        l_encoder = preprocessing.LabelEncoder()\n",
    "        l_encoder.fit(df1[f])\n",
    "        df1[f]=l_encoder.transform(df1[f])\n",
    "        df2[f]=l_encoder.transform(df2[f])\n",
    "\n",
    "    # use OneHotEncoder on both dataframes\n",
    "    oh_encoder = ce.OneHotEncoder(handle_unknown='ignore', cols=onehot_features,use_cat_names=True)\n",
    "    df1=oh_encoder.fit_transform(df1)\n",
    "    df2=oh_encoder.transform(df2)\n",
    "    \n",
    "    return df1,df2\n",
    "        \n",
    "    "
   ]
  },
  {
   "cell_type": "code",
   "execution_count": 9,
   "metadata": {},
   "outputs": [],
   "source": [
    "df_train, df_test = encode(df_train, df_test)"
   ]
  },
  {
   "cell_type": "code",
   "execution_count": 10,
   "metadata": {},
   "outputs": [
    {
     "data": {
      "image/png": "[encoded data removed]",
      "text/plain": [
       "<Figure size 432x288 with 1 Axes>"
      ]
     },
     "metadata": {
      "needs_background": "light"
     },
     "output_type": "display_data"
    },
    {
     "name": "stdout",
     "output_type": "stream",
     "text": [
      "removed worst: Embarked_Q, p=0.9133532352434973\n",
      "removed worst: PassengerId, p=0.8813657768795535\n",
      "removed worst: Age_age_upto40, p=0.671318948553247\n",
      "removed worst: Age_above40, p=0.6358060234148096\n",
      "removed worst: Cabin_G, p=0.6325420044333476\n",
      "removed worst: Cabin_A, p=0.5064306274592466\n",
      "removed worst: Cabin_T, p=0.43026102541672473\n"
     ]
    },
    {
     "data": {
      "image/png": "[encoded data removed]",
      "text/plain": [
       "<Figure size 432x288 with 1 Axes>"
      ]
     },
     "metadata": {
      "needs_background": "light"
     },
     "output_type": "display_data"
    }
   ],
   "source": [
    "# Perform feature selection\n",
    "#draw a graph before\n",
    "predictors=df_train.columns.tolist()\n",
    "selector = SelectKBest(f_classif, k='all')\n",
    "_=selector.fit(df_train, df_y)\n",
    "scores = -np.log10(selector.pvalues_)\n",
    "plt.bar(range(len(predictors)), scores)\n",
    "plt.xticks(range(len(predictors)), predictors, rotation='vertical')\n",
    "plt.title('features - all')\n",
    "plt.show()\n",
    "\n",
    "#iterative pruning of least important feature\n",
    "K=16  # final number of features\n",
    "X_train_pruned = df_train.values\n",
    "X_test_pruned= df_test.values\n",
    "for i in range(len(predictors),K,-1):\n",
    "    predictors=df_train.columns.tolist()\n",
    "    selector = SelectKBest(f_classif, k='all')\n",
    "    _ = selector.fit(df_train, df_y)\n",
    "    # find the worst feature\n",
    "    worst=np.argmax(selector.pvalues_)\n",
    "    # drop this feature from train and test set\n",
    "    df_train.drop(predictors[worst], axis=1, inplace=True)\n",
    "    df_test.drop(predictors[worst], axis=1, inplace=True)\n",
    "    print(f'removed worst: {predictors[worst]}, p={selector.pvalues_[worst]}')\n",
    "#   \n",
    "X_train_pruned=df_train.values\n",
    "X_test_pruned=df_test.values\n",
    "\n",
    "#draw a graph after\n",
    "predictors=df_train.columns.tolist()\n",
    "selector = SelectKBest(f_classif, k='all')\n",
    "_=selector.fit(df_train, df_y)\n",
    "scores = -np.log10(selector.pvalues_)\n",
    "plt.bar(range(len(predictors)), scores)\n",
    "plt.xticks(range(len(predictors)), predictors, rotation='vertical')\n",
    "plt.title('features - pruned')\n",
    "plt.show()"
   ]
  },
  {
   "cell_type": "code",
   "execution_count": null,
   "metadata": {},
   "outputs": [],
   "source": [
    "X_train_pruned.shape"
   ]
  },
  {
   "cell_type": "markdown",
   "metadata": {},
   "source": [
    "## building MLP model"
   ]
  },
  {
   "cell_type": "code",
   "execution_count": null,
   "metadata": {},
   "outputs": [],
   "source": [
    "# split train and validation\n",
    "# X_train,X_val,y_train,y_val=train_test_split(df_train.values,dfy.values,test_size=0.25,random_state=1, shuffle=True)\n",
    "X_train,X_val,y_train,y_val=train_test_split(X_train_pruned,df_y.values,test_size=0.15,random_state=1, shuffle=True)\n",
    "X_test=X_test_pruned"
   ]
  },
  {
   "cell_type": "code",
   "execution_count": null,
   "metadata": {},
   "outputs": [],
   "source": [
    "print(X_train.shape)\n",
    "print(y_train.shape)\n",
    "print(X_val.shape)\n",
    "print(y_val.shape)\n",
    "print(X_test.shape)"
   ]
  },
  {
   "cell_type": "code",
   "execution_count": null,
   "metadata": {},
   "outputs": [],
   "source": []
  },
  {
   "cell_type": "code",
   "execution_count": null,
   "metadata": {},
   "outputs": [],
   "source": [
    "def mlp_model(units_list, l2=0, dropout_rate=0):\n",
    "    model=models.Sequential()\n",
    "    for u in units_list:\n",
    "        model.add(Dense(units=u, activation='relu',kernel_regularizer=regularizers.l2(l2)))\n",
    "        if dropout_rate>0:\n",
    "            model.add(Dropout(rate=dropout_rate))\n",
    "    model.add(Dense(units=1, activation='sigmoid'))\n",
    "    return model"
   ]
  },
  {
   "cell_type": "code",
   "execution_count": null,
   "metadata": {},
   "outputs": [],
   "source": []
  },
  {
   "cell_type": "code",
   "execution_count": null,
   "metadata": {},
   "outputs": [],
   "source": [
    "def train_model(model,data,epochs=20,learning_rate=1e-3):\n",
    "    \n",
    "    X_train, y_train, X_val, y_val = data\n",
    "    # Compile model with learning parameters.\n",
    "    loss = 'binary_crossentropy'\n",
    "    optimizer = tf.keras.optimizers.Adam(lr=learning_rate)\n",
    "    model.compile(optimizer=optimizer, loss=loss, metrics=['acc'])\n",
    "\n",
    "    # Create callback for early stopping on validation loss. If the loss does\n",
    "    # not decrease in <patience> consecutive tries, stop training.\n",
    "    callbacks = [tf.keras.callbacks.EarlyStopping(\n",
    "        monitor='val_loss', patience=20)]\n",
    "\n",
    "    # Train and validate model.\n",
    "    history = model.fit(\n",
    "            X_train,\n",
    "            y_train,\n",
    "            epochs=epochs,\n",
    "    #        callbacks=callbacks,\n",
    "            validation_data=(X_val, y_val),\n",
    "            verbose=2,  # Logs once per epoch.\n",
    "            batch_size=128)\n",
    "\n",
    "    # Print results.\n",
    "    history = history.history\n",
    "    print('Validation accuracy: {acc}, loss: {loss}'.format(\n",
    "            acc=history['val_acc'][-1], loss=history['val_loss'][-1]))\n",
    "\n",
    "    # Plot training & validation accuracy values\n",
    "    plt.plot(history['acc'])\n",
    "    plt.plot(history['val_acc'])\n",
    "    plt.title('Model accuracy')\n",
    "    plt.ylabel('Accuracy')\n",
    "    plt.xlabel('Epoch')\n",
    "    plt.legend(['Train', 'Test'], loc='upper left')\n",
    "    plt.show()\n",
    "    # Plot training & validation loss values\n",
    "    plt.plot(history['loss'])\n",
    "    plt.plot(history['val_loss'])\n",
    "    plt.title('Model loss')\n",
    "    plt.ylabel('Loss')\n",
    "    plt.xlabel('Epoch')\n",
    "    plt.legend(['Train', 'Test'], loc='upper left')\n",
    "    plt.show()\n",
    "    # Save model.\n",
    "    # model.save('titanic.h5')\n",
    "    return history['val_acc'][-1], history['val_loss'][-1], model"
   ]
  },
  {
   "cell_type": "code",
   "execution_count": null,
   "metadata": {},
   "outputs": [],
   "source": [
    "my_model=mlp_model(units_list=[8,8,6,4],l2=0.006,dropout_rate=0.)"
   ]
  },
  {
   "cell_type": "code",
   "execution_count": null,
   "metadata": {},
   "outputs": [],
   "source": [
    "my_data= (X_train, y_train, X_val, y_val)\n",
    "_,_,my_model=train_model(my_model,my_data,epochs=1000,learning_rate=3e-4)"
   ]
  },
  {
   "cell_type": "markdown",
   "metadata": {},
   "source": [
    "## predict for test data & submit"
   ]
  },
  {
   "cell_type": "code",
   "execution_count": null,
   "metadata": {},
   "outputs": [],
   "source": [
    "y_probs=my_model.predict(X_test)\n",
    "y_preds=np.rint(y_probs).astype(int)\n",
    "y_preds=y_preds.reshape(-1)"
   ]
  },
  {
   "cell_type": "code",
   "execution_count": null,
   "metadata": {},
   "outputs": [],
   "source": []
  },
  {
   "cell_type": "code",
   "execution_count": null,
   "metadata": {},
   "outputs": [],
   "source": []
  },
  {
   "cell_type": "code",
   "execution_count": null,
   "metadata": {},
   "outputs": [],
   "source": []
  },
  {
   "cell_type": "code",
   "execution_count": null,
   "metadata": {},
   "outputs": [],
   "source": [
    "submission = pd.DataFrame({'PassengerId':test_dataset['PassengerId'],'Survived':y_preds})\n"
   ]
  },
  {
   "cell_type": "code",
   "execution_count": null,
   "metadata": {},
   "outputs": [],
   "source": [
    "submission.to_csv('submission.csv',index=False)"
   ]
  },
  {
   "cell_type": "code",
   "execution_count": null,
   "metadata": {},
   "outputs": [],
   "source": []
  }
 ],
 "metadata": {
  "kernelspec": {
   "display_name": "Python 3",
   "language": "python",
   "name": "python3"
  },
  "language_info": {
   "codemirror_mode": {
    "name": "ipython",
    "version": 3
   },
   "file_extension": ".py",
   "mimetype": "text/x-python",
   "name": "python",
   "nbconvert_exporter": "python",
   "pygments_lexer": "ipython3",
   "version": "3.6.7"
  }
 },
 "nbformat": 4,
 "nbformat_minor": 2
}
